{
  "nbformat": 4,
  "nbformat_minor": 0,
  "metadata": {
    "colab": {
      "provenance": [],
      "authorship_tag": "ABX9TyOiSahgKI8/cBE/g39FjHsA",
      "include_colab_link": true
    },
    "kernelspec": {
      "name": "python3",
      "display_name": "Python 3"
    },
    "language_info": {
      "name": "python"
    }
  },
  "cells": [
    {
      "cell_type": "markdown",
      "metadata": {
        "id": "view-in-github",
        "colab_type": "text"
      },
      "source": [
        "<a href=\"https://colab.research.google.com/github/Elnn05/Semana1/blob/main/Semana_1.ipynb\" target=\"_parent\"><img src=\"https://colab.research.google.com/assets/colab-badge.svg\" alt=\"Open In Colab\"/></a>"
      ]
    },
    {
      "cell_type": "code",
      "execution_count": null,
      "metadata": {
        "id": "jKpCgGAf7Gez"
      },
      "outputs": [],
      "source": []
    },
    {
      "cell_type": "code",
      "execution_count": 1,
      "metadata": {
        "colab": {
          "base_uri": "https://localhost:8080/"
        },
        "id": "2LiHjT0t_HGN",
        "outputId": "41cb8d65-187b-4b75-e3ab-cdca17fd15dc"
      },
      "outputs": [
        {
          "output_type": "stream",
          "name": "stdout",
          "text": [
            "Datos del Estudiante:\n",
            "Nombre: Juan Pérez\n",
            "Edad: 20 años\n",
            "¿Cuál es tu asignatura favorita? Ingles\n",
            "¡Qué bien! Tu asignatura favorita es Ingles.\n"
          ]
        }
      ],
      "source": [
        " # 1. Variables y tipos de datos\n",
        " nombre_estudiante = \"Juan Pérez\"\n",
        " edad = 20\n",
        " promedio = 4.2\n",
        " es_regular = True\n",
        " # 2. La función print() para mostrar información\n",
        " print(\"Datos del Estudiante:\")\n",
        " print(\"Nombre:\", nombre_estudiante)\n",
        " print(f\"Edad: {edad} años\") # Usando f-strings, una forma moderna y útil\n",
        " # 3. La función input() para recibir datos del usuario\n",
        " asignatura_favorita = input(\"¿Cuál es tu asignatura favorita? \")\n",
        " print(f\"¡Qué bien! Tu asignatura favorita es {asignatura_favorita}.\")"
      ]
    }
  ]
}