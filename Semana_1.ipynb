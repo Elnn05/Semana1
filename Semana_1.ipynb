{
  "nbformat": 4,
  "nbformat_minor": 0,
  "metadata": {
    "colab": {
      "provenance": [],
      "authorship_tag": "ABX9TyNxXDP3ex2K7TnfM6oaUqkG",
      "include_colab_link": true
    },
    "kernelspec": {
      "name": "python3",
      "display_name": "Python 3"
    },
    "language_info": {
      "name": "python"
    }
  },
  "cells": [
    {
      "cell_type": "markdown",
      "metadata": {
        "id": "view-in-github",
        "colab_type": "text"
      },
      "source": [
        "<a href=\"https://colab.research.google.com/github/Elnn05/Semana1/blob/main/Semana_1.ipynb\" target=\"_parent\"><img src=\"https://colab.research.google.com/assets/colab-badge.svg\" alt=\"Open In Colab\"/></a>"
      ]
    },
    {
      "cell_type": "code",
      "execution_count": null,
      "metadata": {
        "id": "jKpCgGAf7Gez"
      },
      "outputs": [],
      "source": []
    },
    {
      "cell_type": "code",
      "execution_count": 1,
      "metadata": {
        "colab": {
          "base_uri": "https://localhost:8080/"
        },
        "id": "2LiHjT0t_HGN",
        "outputId": "41cb8d65-187b-4b75-e3ab-cdca17fd15dc"
      },
      "outputs": [
        {
          "output_type": "stream",
          "name": "stdout",
          "text": [
            "Datos del Estudiante:\n",
            "Nombre: Juan Pérez\n",
            "Edad: 20 años\n",
            "¿Cuál es tu asignatura favorita? Ingles\n",
            "¡Qué bien! Tu asignatura favorita es Ingles.\n"
          ]
        }
      ],
      "source": [
        " # 1. Variables y tipos de datos\n",
        " nombre_estudiante = \"Juan Pérez\"\n",
        " edad = 20\n",
        " promedio = 4.2\n",
        " es_regular = True\n",
        " # 2. La función print() para mostrar información\n",
        " print(\"Datos del Estudiante:\")\n",
        " print(\"Nombre:\", nombre_estudiante)\n",
        " print(f\"Edad: {edad} años\") # Usando f-strings, una forma moderna y útil\n",
        " # 3. La función input() para recibir datos del usuario\n",
        " asignatura_favorita = input(\"¿Cuál es tu asignatura favorita? \")\n",
        " print(f\"¡Qué bien! Tu asignatura favorita es {asignatura_favorita}.\")"
      ]
    },
    {
      "cell_type": "code",
      "metadata": {
        "colab": {
          "base_uri": "https://localhost:8080/"
        },
        "id": "258b6ade",
        "outputId": "7c142680-990e-4310-93fb-5a5906a1ffd7"
      },
      "source": [
        "# Definir dos números como variables\n",
        "numero1 = 10\n",
        "numero2 = 5\n",
        "\n",
        "# Realizar las operaciones\n",
        "suma = numero1 + numero2\n",
        "resta = numero1 - numero2\n",
        "multiplicacion = numero1 * numero2\n",
        "\n",
        "# La división puede causar un error si el divisor es cero,\n",
        "# por lo que es una buena práctica verificarlo.\n",
        "if numero2 != 0:\n",
        "    division = numero1 / numero2\n",
        "    print(f\"Suma: {suma}\")\n",
        "    print(f\"Resta: {resta}\")\n",
        "    print(f\"Multiplicación: {multiplicacion}\")\n",
        "    print(f\"División: {division}\")\n",
        "else:\n",
        "    print(\"No se puede dividir por cero.\")"
      ],
      "execution_count": 2,
      "outputs": [
        {
          "output_type": "stream",
          "name": "stdout",
          "text": [
            "Suma: 15\n",
            "Resta: 5\n",
            "Multiplicación: 50\n",
            "División: 2.0\n"
          ]
        }
      ]
    }
  ]
}